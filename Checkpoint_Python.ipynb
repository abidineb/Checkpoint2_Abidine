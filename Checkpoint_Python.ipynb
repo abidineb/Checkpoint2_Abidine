{
 "cells": [
  {
   "cell_type": "code",
   "execution_count": 8,
   "id": "8af2769d",
   "metadata": {},
   "outputs": [
    {
     "name": "stdout",
     "output_type": "stream",
     "text": [
      "[2002, 2009, 2016, 2023, 2037, 2044, 2051, 2058, 2072, 2079, 2086, 2093, 2107, 2114, 2121, 2128, 2142, 2149, 2156, 2163, 2177, 2184, 2191, 2198, 2212, 2219, 2226, 2233, 2247, 2254, 2261, 2268, 2282, 2289, 2296, 2303, 2317, 2324, 2331, 2338, 2352, 2359, 2366, 2373, 2387, 2394, 2401, 2408, 2422, 2429, 2436, 2443, 2457, 2464, 2471, 2478, 2492, 2499, 2506, 2513, 2527, 2534, 2541, 2548, 2562, 2569, 2576, 2583, 2597, 2604, 2611, 2618, 2632, 2639, 2646, 2653, 2667, 2674, 2681, 2688, 2702, 2709, 2716, 2723, 2737, 2744, 2751, 2758, 2772, 2779, 2786, 2793, 2807, 2814, 2821, 2828, 2842, 2849, 2856, 2863, 2877, 2884, 2891, 2898, 2912, 2919, 2926, 2933, 2947, 2954, 2961, 2968, 2982, 2989, 2996, 3003, 3017, 3024, 3031, 3038, 3052, 3059, 3066, 3073, 3087, 3094, 3101, 3108, 3122, 3129, 3136, 3143, 3157, 3164, 3171, 3178, 3192, 3199]\n"
     ]
    }
   ],
   "source": [
    "# Question 1\n",
    "# A program that will find all numbers which are divisible by 7 but are not a multiple of 5,\n",
    "# between 2000 and 3200 (both included). The numbers obtained should be printed in a list.\n",
    "\n",
    "#To create an empty List\n",
    "nl=[]\n",
    "for x in range(2000, 3200):\n",
    "    if (x%7==0) & (x%5!=0):\n",
    "        nl.append(x)        \n",
    "print(nl)"
   ]
  },
  {
   "cell_type": "code",
   "execution_count": 10,
   "id": "3a8572a8",
   "metadata": {},
   "outputs": [
    {
     "name": "stdout",
     "output_type": "stream",
     "text": [
      "Enter a number: 4\n",
      "The factorial of 4 is 24\n"
     ]
    }
   ],
   "source": [
    "# Question 2\n",
    "# Python program to find the factorial of a number provided by the user\n",
    "# Change manually the value for a different result\n",
    "# To take input from the user\n",
    "num = int(input(\"Enter a number: \"))\n",
    "fact = 1\n",
    "\n",
    "# check if the number is negative, zero, or positive\n",
    "if num < 0:\n",
    "     print(\"Sorry, factorial does not exist for negative numbers\")\n",
    "elif num == 0:\n",
    "     print(\"The factorial of 0 is 1\")\n",
    "else:\n",
    "    for i in range(1,num + 1):\n",
    "        fact = fact*i\n",
    "print(\"The factorial of\",num,\"is\",fact)"
   ]
  },
  {
   "cell_type": "code",
   "execution_count": 11,
   "id": "df8302b9",
   "metadata": {},
   "outputs": [
    {
     "name": "stdout",
     "output_type": "stream",
     "text": [
      "Type a number: 8\n",
      "{1: 1, 2: 4, 3: 9, 4: 16, 5: 25, 6: 36, 7: 49, 8: 64}\n"
     ]
    }
   ],
   "source": [
    "# Question 3\n",
    "# Write a program to generate a dictionary for an integer number n that contains (i, i*i) such that\n",
    "# is an integral number between 1 and n. \n",
    "\n",
    "# n=8\n",
    "n= int(input(\"Type a number: \"))\n",
    "d={}\n",
    "for i in range(1,n+1):\n",
    "    d[i]=i*i\n",
    "print(d)"
   ]
  },
  {
   "cell_type": "code",
   "execution_count": 20,
   "id": "18bd954d",
   "metadata": {},
   "outputs": [
    {
     "name": "stdout",
     "output_type": "stream",
     "text": [
      "Type a word: BILAL\n",
      "Type a number: 2\n"
     ]
    },
    {
     "data": {
      "text/plain": [
       "'BIAL'"
      ]
     },
     "execution_count": 20,
     "metadata": {},
     "output_type": "execute_result"
    }
   ],
   "source": [
    "# Question 4\n",
    "# Given a non-empty string and an int n, return a new string where the char at index n has been removed\n",
    "\n",
    "def missing_char(str, n):\n",
    "# The str not including n\n",
    "    return str[:n] + str[n+1:]\n",
    "\n",
    "word=input(\"Type a word: \")\n",
    "n=int(input(\"Type a number: \"))\n",
    "missing_char(word, n)"
   ]
  },
  {
   "cell_type": "code",
   "execution_count": 21,
   "id": "3b1f5920",
   "metadata": {},
   "outputs": [
    {
     "name": "stdout",
     "output_type": "stream",
     "text": [
      "Original array elements:\n",
      " [[0 1]\n",
      " [2 3]\n",
      " [4 5]]\n",
      "Array to list:\n",
      " [[0, 1], [2, 3], [4, 5]]\n"
     ]
    }
   ],
   "source": [
    "# Question 5\n",
    "# Write a NumPy program to convert a NumPy array into a Python list structure.\n",
    "# Expected Output: \n",
    "# Original array elements: [[0 1] [2 3] [4 5]] \n",
    "# Array to list: [[0, 1], [2, 3], [4, 5]] \n",
    "  \n",
    "import numpy as np\n",
    "x= np.arange(6).reshape(3, 2)\n",
    "print(\"Original array elements:\\n\", x)\n",
    "print(\"Array to list:\\n\",x.tolist())"
   ]
  },
  {
   "cell_type": "code",
   "execution_count": 22,
   "id": "bce03550",
   "metadata": {},
   "outputs": [
    {
     "name": "stdout",
     "output_type": "stream",
     "text": [
      "Original array1:\n",
      " [0 1 2]\n",
      "Original array1:\n",
      " [2 1 0]\n",
      "Covariance matrix of the said arrays:\n",
      " [[ 1. -1.]\n",
      " [-1.  1.]]\n"
     ]
    }
   ],
   "source": [
    "# Question 6\n",
    "# Write a NumPy program to compute the covariance matrix of two given arrays. \n",
    "# Original array1: [0 1 2] and Original array2: [2 1 0] \n",
    "# Covariance matrix of the said arrays: [[ 1. -1.] [-1. 1.]]\n",
    "\n",
    "import numpy as np\n",
    "Tab1 = np.array([0, 1, 2])\n",
    "Tab2 = np.array([2, 1, 0])\n",
    "print(\"Original array1:\\n\", Tab1)\n",
    "print(\"Original array1:\\n\", Tab2)\n",
    "print(\"Covariance matrix of the said arrays:\\n\",np.cov(Tab1, Tab2))"
   ]
  },
  {
   "cell_type": "code",
   "execution_count": null,
   "id": "d974931e",
   "metadata": {},
   "outputs": [],
   "source": []
  }
 ],
 "metadata": {
  "kernelspec": {
   "display_name": "Python 3",
   "language": "python",
   "name": "python3"
  },
  "language_info": {
   "codemirror_mode": {
    "name": "ipython",
    "version": 3
   },
   "file_extension": ".py",
   "mimetype": "text/x-python",
   "name": "python",
   "nbconvert_exporter": "python",
   "pygments_lexer": "ipython3",
   "version": "3.8.8"
  }
 },
 "nbformat": 4,
 "nbformat_minor": 5
}
